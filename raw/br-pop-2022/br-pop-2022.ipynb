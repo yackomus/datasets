{
 "cells": [
  {
   "cell_type": "code",
   "execution_count": 1,
   "id": "1177bd02-a16e-4730-a433-152315a117c8",
   "metadata": {},
   "outputs": [],
   "source": [
    "import polars as pl"
   ]
  },
  {
   "cell_type": "code",
   "execution_count": 5,
   "id": "f26b8b1c-4a01-46f6-8b8a-3ae868ea3f33",
   "metadata": {},
   "outputs": [
    {
     "data": {
      "text/html": [
       "<div><style>\n",
       ".dataframe > thead > tr,\n",
       ".dataframe > tbody > tr {\n",
       "  text-align: right;\n",
       "  white-space: pre-wrap;\n",
       "}\n",
       "</style>\n",
       "<small>shape: (5_570, 5)</small><table border=\"1\" class=\"dataframe\"><thead><tr><th>estado</th><th>estado_cod</th><th>municipio_cod</th><th>municipio_nome</th><th>populacao</th></tr><tr><td>str</td><td>i64</td><td>str</td><td>str</td><td>f64</td></tr></thead><tbody><tr><td>&quot;RO&quot;</td><td>11</td><td>&quot;00015&quot;</td><td>&quot;Alta Floresta D&#x27;Oeste&quot;</td><td>21558.0</td></tr><tr><td>&quot;RO&quot;</td><td>11</td><td>&quot;00023&quot;</td><td>&quot;Ariquemes&quot;</td><td>100896.0</td></tr><tr><td>&quot;RO&quot;</td><td>11</td><td>&quot;00031&quot;</td><td>&quot;Cabixi&quot;</td><td>5107.0</td></tr><tr><td>&quot;RO&quot;</td><td>11</td><td>&quot;00049&quot;</td><td>&quot;Cacoal&quot;</td><td>92202.0</td></tr><tr><td>&quot;RO&quot;</td><td>11</td><td>&quot;00056&quot;</td><td>&quot;Cerejeiras&quot;</td><td>15237.0</td></tr><tr><td>&hellip;</td><td>&hellip;</td><td>&hellip;</td><td>&hellip;</td><td>&hellip;</td></tr><tr><td>&quot;GO&quot;</td><td>52</td><td>&quot;22005&quot;</td><td>&quot;Vianópolis&quot;</td><td>14046.0</td></tr><tr><td>&quot;GO&quot;</td><td>52</td><td>&quot;22054&quot;</td><td>&quot;Vicentinópolis&quot;</td><td>8776.0</td></tr><tr><td>&quot;GO&quot;</td><td>52</td><td>&quot;22203&quot;</td><td>&quot;Vila Boa&quot;</td><td>3686.0</td></tr><tr><td>&quot;GO&quot;</td><td>52</td><td>&quot;22302&quot;</td><td>&quot;Vila Propício&quot;</td><td>5646.0</td></tr><tr><td>&quot;DF&quot;</td><td>53</td><td>&quot;00108&quot;</td><td>&quot;Brasília&quot;</td><td>2.923369e6</td></tr></tbody></table></div>"
      ],
      "text/plain": [
       "shape: (5_570, 5)\n",
       "┌────────┬────────────┬───────────────┬───────────────────────┬────────────┐\n",
       "│ estado ┆ estado_cod ┆ municipio_cod ┆ municipio_nome        ┆ populacao  │\n",
       "│ ---    ┆ ---        ┆ ---           ┆ ---                   ┆ ---        │\n",
       "│ str    ┆ i64        ┆ str           ┆ str                   ┆ f64        │\n",
       "╞════════╪════════════╪═══════════════╪═══════════════════════╪════════════╡\n",
       "│ RO     ┆ 11         ┆ 00015         ┆ Alta Floresta D'Oeste ┆ 21558.0    │\n",
       "│ RO     ┆ 11         ┆ 00023         ┆ Ariquemes             ┆ 100896.0   │\n",
       "│ RO     ┆ 11         ┆ 00031         ┆ Cabixi                ┆ 5107.0     │\n",
       "│ RO     ┆ 11         ┆ 00049         ┆ Cacoal                ┆ 92202.0    │\n",
       "│ RO     ┆ 11         ┆ 00056         ┆ Cerejeiras            ┆ 15237.0    │\n",
       "│ …      ┆ …          ┆ …             ┆ …                     ┆ …          │\n",
       "│ GO     ┆ 52         ┆ 22005         ┆ Vianópolis            ┆ 14046.0    │\n",
       "│ GO     ┆ 52         ┆ 22054         ┆ Vicentinópolis        ┆ 8776.0     │\n",
       "│ GO     ┆ 52         ┆ 22203         ┆ Vila Boa              ┆ 3686.0     │\n",
       "│ GO     ┆ 52         ┆ 22302         ┆ Vila Propício         ┆ 5646.0     │\n",
       "│ DF     ┆ 53         ┆ 00108         ┆ Brasília              ┆ 2.923369e6 │\n",
       "└────────┴────────────┴───────────────┴───────────────────────┴────────────┘"
      ]
     },
     "execution_count": 5,
     "metadata": {},
     "output_type": "execute_result"
    }
   ],
   "source": [
    "raw = pl.read_excel('./POP2022_Municipios_20230622.xlsx')\n",
    "raw"
   ]
  },
  {
   "cell_type": "code",
   "execution_count": null,
   "id": "c80a9b85-a8bd-48da-8815-4fabfcb23309",
   "metadata": {},
   "outputs": [],
   "source": []
  }
 ],
 "metadata": {
  "kernelspec": {
   "display_name": "Python 3 (ipykernel)",
   "language": "python",
   "name": "python3"
  },
  "language_info": {
   "codemirror_mode": {
    "name": "ipython",
    "version": 3
   },
   "file_extension": ".py",
   "mimetype": "text/x-python",
   "name": "python",
   "nbconvert_exporter": "python",
   "pygments_lexer": "ipython3",
   "version": "3.12.5"
  }
 },
 "nbformat": 4,
 "nbformat_minor": 5
}
